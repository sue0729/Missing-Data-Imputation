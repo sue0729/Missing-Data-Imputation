{
 "cells": [
  {
   "cell_type": "code",
   "execution_count": 1,
   "id": "5e300d97-66b0-4866-b8b5-7ab8b0787dc3",
   "metadata": {},
   "outputs": [],
   "source": [
    "####### ライブラリのインポート ######\n",
    "import numpy as np\n",
    "import pandas as pd\n",
    "from sklearn.preprocessing import StandardScaler\n",
    "from sklearn.neighbors import KNeighborsRegressor\n",
    "import math as ma\n",
    "from sklearn.model_selection import GridSearchCV"
   ]
  },
  {
   "cell_type": "code",
   "execution_count": 2,
   "id": "dbd32ea0-506a-42d5-ae82-a4d40eb813ce",
   "metadata": {},
   "outputs": [],
   "source": [
    "####### 学習・検証・テスト期間の設定 ######\n",
    "train_days = 246 # 学習データの日数\n",
    "valid_days = 40 # テストデータの日数\n",
    "test_days = 31 # 予測データの日数\n",
    "\n",
    "all_features = ['year', 'month', 'day', 'sin_month', 'cos_month', 'sin_day', 'cos_day','sin_hour', 'cos_hour', 'hour', 'humidity', 'windspeed', 'temp','cloudcover', 'rain', 'generation']\n",
    "features = ['cos_month','sin_hour', 'cos_hour','humidity','temp','cloudcover', 'rain','generation']\n",
    "_features = [elem for elem in all_features if elem not in features]"
   ]
  },
  {
   "cell_type": "code",
   "execution_count": 3,
   "id": "61bebf88-a63a-47a8-84cf-58b5cd29b5e4",
   "metadata": {},
   "outputs": [],
   "source": [
    "missing_rate = \"20\" #欠損率\n",
    "PV_data = pd.read_csv(f\"_MCAR_{missing_rate}%.csv\")\n",
    "\n",
    "daytime_tr_va = PV_data.loc[:48*(train_days+test_days)-1].query('hour >= 7 and hour <=18')\n",
    "night_tr_va = PV_data.loc[:48*(train_days+test_days)-1].query('hour < 7 or hour > 18')\n",
    "test = PV_data.loc[48*(train_days+test_days):]"
   ]
  },
  {
   "cell_type": "code",
   "execution_count": 4,
   "id": "7b4d14d8-2a7e-4583-b490-303b17ca9438",
   "metadata": {},
   "outputs": [],
   "source": [
    "complete_data = daytime_tr_va.dropna().reset_index(drop = True) #欠損していないデータ\n",
    "missing_data = daytime_tr_va[daytime_tr_va['generation'].isnull()] #欠損しているデータ\n",
    "\n",
    "sc_x = StandardScaler()\n",
    "sc_y = StandardScaler()\n",
    "\n",
    "X_train = complete_data.loc[:,features[:-1]]\n",
    "y_train = complete_data.loc[:,features[-1]]\n",
    "\n",
    "X_train = sc_x.fit_transform(X_train.values)\n",
    "y_train = sc_y.fit_transform(y_train.values.reshape(-1, 1))\n",
    "\n",
    "X_test = missing_data.loc[:,features[:-1]] \n",
    "_X_test =  missing_data[_features].reset_index(drop = True) #補完したいデータの入力Xのうち、all_featuresに含まれないもの。後でソートするために使う"
   ]
  },
  {
   "cell_type": "code",
   "execution_count": 5,
   "id": "3876104c-1390-4bbf-aab4-d305b25344d4",
   "metadata": {},
   "outputs": [
    {
     "data": {
      "text/plain": [
       "GridSearchCV(cv=5, estimator=KNeighborsRegressor(),\n",
       "             param_grid={'n_neighbors': [5, 10, 20, 40, 80, 120, 130, 150, 170,\n",
       "                                         200]})"
      ]
     },
     "execution_count": 5,
     "metadata": {},
     "output_type": "execute_result"
    }
   ],
   "source": [
    "####### KNNの実行 ######\n",
    "search_gs = {\n",
    "\"n_neighbors\": [5,10,20,40,80,120,130,150,170,200],\n",
    "}\n",
    "\n",
    "model_gs = KNeighborsRegressor()\n",
    "# グリットサーチの設定\n",
    "gs = GridSearchCV(model_gs,\n",
    "                  search_gs,\n",
    "                  cv = 5,\n",
    "                  )\n",
    "# 学習\n",
    "gs.fit(X_train, y_train)\n",
    "\n",
    "\n",
    "\n",
    "#imputer = KNNImputer(n_neighbors=50, weights='uniform')\n",
    "#imputed = imputer.fit_transform(std_daytime_tr_va)\n",
    "#imputed = pd.DataFrame(imputed)\n",
    "#imputed.columns = features"
   ]
  },
  {
   "cell_type": "code",
   "execution_count": 6,
   "id": "e93d193a-6bf6-4f3f-8516-c6f897d267f4",
   "metadata": {},
   "outputs": [
    {
     "name": "stdout",
     "output_type": "stream",
     "text": [
      "{'n_neighbors': 10}\n"
     ]
    }
   ],
   "source": [
    "# 最適なパラメータの表示\n",
    "print(gs.best_params_)"
   ]
  },
  {
   "cell_type": "code",
   "execution_count": 7,
   "id": "93237924-cc7c-486a-8f1d-00744b1089ab",
   "metadata": {},
   "outputs": [
    {
     "name": "stderr",
     "output_type": "stream",
     "text": [
      "C:\\Users\\Yu\\anaconda3new\\lib\\site-packages\\sklearn\\base.py:443: UserWarning: X has feature names, but KNeighborsRegressor was fitted without feature names\n",
      "  warnings.warn(\n"
     ]
    }
   ],
   "source": [
    "best = gs.best_estimator_\n",
    "y_test = best.predict(X_test)"
   ]
  },
  {
   "cell_type": "code",
   "execution_count": 8,
   "id": "d6e49b89-ea97-47b4-80e0-7c1ca451a8f7",
   "metadata": {},
   "outputs": [],
   "source": [
    "y_test = sc_y.inverse_transform(y_test)\n",
    "y_test = pd.DataFrame(y_test,columns = ['generation'])\n",
    "X_test = X_test.reset_index(drop=True)\n",
    "test = pd.concat([_X_test,X_test,y_test],axis =1)"
   ]
  },
  {
   "cell_type": "code",
   "execution_count": 9,
   "id": "ccbea864-74b0-4520-a82f-abb8980805e5",
   "metadata": {},
   "outputs": [],
   "source": [
    "imputed_PV_data = pd.concat([complete_data,test],axis=0)\n",
    "sorted_result = pd.concat([imputed_PV_data,night_tr_va,test],axis=0).sort_values(['year','month','day','hour']).reset_index(drop = True)"
   ]
  },
  {
   "cell_type": "code",
   "execution_count": 10,
   "id": "64e46082-08a0-4cd4-9de9-c9beb73fa682",
   "metadata": {},
   "outputs": [],
   "source": [
    "sorted_result.to_csv(f\"KNN_{missing_rate}%.csv\",index = False)"
   ]
  },
  {
   "cell_type": "code",
   "execution_count": null,
   "id": "c3a0d703-5644-4939-b3b8-4b031755cfb3",
   "metadata": {},
   "outputs": [],
   "source": []
  }
 ],
 "metadata": {
  "kernelspec": {
   "display_name": "Python 3 (ipykernel)",
   "language": "python",
   "name": "python3"
  },
  "language_info": {
   "codemirror_mode": {
    "name": "ipython",
    "version": 3
   },
   "file_extension": ".py",
   "mimetype": "text/x-python",
   "name": "python",
   "nbconvert_exporter": "python",
   "pygments_lexer": "ipython3",
   "version": "3.9.13"
  }
 },
 "nbformat": 4,
 "nbformat_minor": 5
}
