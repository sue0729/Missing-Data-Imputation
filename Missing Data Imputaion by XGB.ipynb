{
 "cells": [
  {
   "cell_type": "code",
   "execution_count": 1,
   "metadata": {},
   "outputs": [],
   "source": [
    "import numpy as np\n",
    "import pandas as pd\n",
    "import math as ma\n",
    "from sklearn.metrics import mean_squared_error\n",
    "from xgboost import XGBRegressor\n",
    "from sklearn.model_selection import GridSearchCV"
   ]
  },
  {
   "cell_type": "code",
   "execution_count": 2,
   "metadata": {},
   "outputs": [],
   "source": [
    "train_days = 246 # 学習データの日数\n",
    "valid_days  = 40   # 検証データの日数\n",
    "test_days  = 31   # テストデータの日数\n",
    "all_features = ['year', 'month', 'day', 'sin_month', 'cos_month', 'sin_day', 'cos_day','sin_hour', 'cos_hour', 'hour', 'humidity', 'windspeed', 'temp','cloudcover', 'rain', 'generation']\n",
    "features = ['sin_month', 'cos_month', 'sin_day', 'cos_day','sin_hour','cos_hour','humidity', 'windspeed', 'temp','cloudcover', 'rain', 'generation']\n",
    "#features = ['sin_hour', 'cos_hour', 'sin_month','cos_month','humidity','windspeed','temp','cloudcover','generation']\n",
    "_features = [elem for elem in all_features if elem not in features]"
   ]
  },
  {
   "cell_type": "code",
   "execution_count": 3,
   "metadata": {},
   "outputs": [],
   "source": [
    "##データ読み込み\n",
    "missing_rate = '20'\n",
    "PV_data = pd.read_csv(f\"_MCAR_{missing_rate}%.csv\")\n",
    "\n",
    "daytime_tr_va = PV_data.loc[:48*(train_days+valid_days)-1].query('hour >= 7 and hour <=18')\n",
    "night_tr_va = PV_data.loc[:48*(train_days+valid_days)-1].query('hour < 7 or hour > 18')\n",
    "test = PV_data.loc[48*(train_days+valid_days):]"
   ]
  },
  {
   "cell_type": "code",
   "execution_count": 4,
   "metadata": {},
   "outputs": [],
   "source": [
    "complete_data = daytime_tr_va.dropna().reset_index(drop = True)\n",
    "missing_data = daytime_tr_va[daytime_tr_va['generation'].isnull()]"
   ]
  },
  {
   "cell_type": "code",
   "execution_count": 5,
   "metadata": {},
   "outputs": [],
   "source": [
    "tr_CompData = complete_data.sample(frac = 0.8)\n",
    "tr_va_CompData = pd.concat([complete_data,tr_CompData],axis = 0)\n",
    "va_CompData = tr_va_CompData.drop_duplicates(keep = False)\n",
    "\n",
    "tr_CompData = complete_data\n",
    "X_train = tr_CompData.loc[:,features[:-1]]\n",
    "y_train = tr_CompData.loc[:,features[-1]]\n",
    "\n",
    "X_valid = va_CompData.loc[:,features[:-1]]\n",
    "y_valid = va_CompData.loc[:,features[-1]]\n",
    "\n",
    "X_test = missing_data.loc[:,features[:-1]]\n",
    "_X_test =  missing_data[_features].reset_index(drop = True)"
   ]
  },
  {
   "cell_type": "code",
   "execution_count": 6,
   "metadata": {},
   "outputs": [
    {
     "name": "stderr",
     "output_type": "stream",
     "text": [
      "C:\\Users\\Yu\\anaconda3new\\lib\\site-packages\\xgboost\\sklearn.py:835: UserWarning: `eval_metric` in `fit` method is deprecated for better compatibility with scikit-learn, use `eval_metric` in constructor or`set_params` instead.\n",
      "  warnings.warn(\n",
      "C:\\Users\\Yu\\anaconda3new\\lib\\site-packages\\xgboost\\sklearn.py:835: UserWarning: `early_stopping_rounds` in `fit` method is deprecated for better compatibility with scikit-learn, use `early_stopping_rounds` in constructor or`set_params` instead.\n",
      "  warnings.warn(\n"
     ]
    },
    {
     "name": "stdout",
     "output_type": "stream",
     "text": [
      "最適パラメータ {'alpha': 0.0, 'colsample_bylevel': 0.5, 'colsample_bytree': 1.0, 'gamma': 0.0, 'lambda': 1.0, 'learning_rate': 0.05, 'max_depth': 15, 'min_child_weight': 8, 'n_estimators': 10000, 'subsample': 0.8}\n",
      "スコア -2.667340677279751\n",
      "Wall time: 33min 22s\n"
     ]
    }
   ],
   "source": [
    "%%time\n",
    "fit_params = {'verbose': 0,  # 学習中のコマンドライン出力\n",
    "              'early_stopping_rounds': 100,  # 学習時、評価指標がこの回数連続で改善しなくなった時点でストップ\n",
    "              'eval_metric': 'rmse',  # early_stopping_roundsの評価指標\n",
    "              'eval_set': [((X_valid, y_valid))]  # early_stopping_roundsの評価指標算出用データ\n",
    "              }\n",
    "# 最終的なパラメータ範囲\n",
    "cv_params = {'learning_rate': [0.05, 0.1],\n",
    "             'n_estimators':[10000],\n",
    "             'max_depth': [5,10,15,20],\n",
    "             'colsample_bytree': [0.5,0.7,0.9,1.0],\n",
    "             'colsample_bylevel': [0.5],\n",
    "             'subsample': [0.2, 0.5, 0.8, 1.0],\n",
    "             'gamma': [0.0],\n",
    "             'alpha': [0.0],\n",
    "             'lambda': [1.0],\n",
    "             'min_child_weight': [1,2,4,8,16,32],\n",
    "             }\n",
    "\n",
    "\n",
    "model = XGBRegressor()\n",
    "# グリッドサーチのインスタンス作成\n",
    "gridcv = GridSearchCV(model, cv_params, cv=5,\n",
    "                      scoring='neg_mean_squared_error', n_jobs=-1)\n",
    "# グリッドサーチ実行（学習実行）\n",
    "gridcv.fit(X_train, y_train, **fit_params)\n",
    "# 最適パラメータの表示と保持\n",
    "best_params = gridcv.best_params_\n",
    "best_score = gridcv.best_score_\n",
    "print(f'最適パラメータ {best_params}\\nスコア {best_score}')"
   ]
  },
  {
   "cell_type": "code",
   "execution_count": 7,
   "metadata": {},
   "outputs": [],
   "source": [
    "best = gridcv.best_estimator_\n",
    "y_test = best.predict(X_test)"
   ]
  },
  {
   "cell_type": "code",
   "execution_count": 8,
   "metadata": {},
   "outputs": [],
   "source": [
    "y_test = pd.DataFrame(y_test,columns = ['generation'])\n",
    "X_test = X_test.reset_index(drop=True)\n",
    "test_CompMissData = pd.concat([_X_test,X_test,y_test],axis =1)\n",
    "imputed_PV_data = pd.concat([complete_data,test_CompMissData],axis=0)\n",
    "sorted_result = pd.concat([imputed_PV_data,night_tr_va,test],axis=0).sort_values(['year','month','day','hour']).reset_index(drop = True)"
   ]
  },
  {
   "cell_type": "code",
   "execution_count": 9,
   "metadata": {},
   "outputs": [],
   "source": [
    "sorted_result.to_csv(f\"__XGB_{missing_rate}%.csv\",index = False)"
   ]
  },
  {
   "cell_type": "code",
   "execution_count": 10,
   "metadata": {},
   "outputs": [
    {
     "data": {
      "text/plain": [
       "'\\n5%: 34min 5s\\n10%:30min 37s\\n15%:30min 1s\\n20%:30min 02s\\n40%:22min\\n60%:12min 15s\\n80%:5min 19s\\n'"
      ]
     },
     "execution_count": 10,
     "metadata": {},
     "output_type": "execute_result"
    }
   ],
   "source": [
    "##memo\n",
    "\"\"\"\n",
    "5%: 34min 5s\n",
    "10%:30min 37s\n",
    "15%:30min 1s\n",
    "20%:30min 02s\n",
    "40%:22min\n",
    "60%:12min 15s\n",
    "80%:5min 19s\n",
    "\"\"\""
   ]
  }
 ],
 "metadata": {
  "kernelspec": {
   "display_name": "Python 3 (ipykernel)",
   "language": "python",
   "name": "python3"
  },
  "language_info": {
   "codemirror_mode": {
    "name": "ipython",
    "version": 3
   },
   "file_extension": ".py",
   "mimetype": "text/x-python",
   "name": "python",
   "nbconvert_exporter": "python",
   "pygments_lexer": "ipython3",
   "version": "3.9.13"
  }
 },
 "nbformat": 4,
 "nbformat_minor": 4
}
