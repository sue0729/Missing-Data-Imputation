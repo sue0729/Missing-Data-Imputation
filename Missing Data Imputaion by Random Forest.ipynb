{
 "cells": [
  {
   "cell_type": "code",
   "execution_count": 1,
   "metadata": {},
   "outputs": [],
   "source": [
    "import numpy as np\n",
    "import pandas as pd\n",
    "import math as ma\n",
    "from sklearn.metrics import mean_squared_error\n",
    "from sklearn.ensemble import RandomForestRegressor"
   ]
  },
  {
   "cell_type": "code",
   "execution_count": 2,
   "metadata": {},
   "outputs": [],
   "source": [
    "train_days = 246 # 学習データの日数\n",
    "test_days  = 40   # テストデータの日数\n",
    "pred_days  = 31   # 予測データの日数\n",
    "all_features = ['year', 'month', 'day', 'sin_month', 'cos_month', 'sin_day', 'cos_day','sin_hour', 'cos_hour', 'hour', 'humidity', 'windspeed', 'temp','cloudcover', 'rain', 'generation']\n",
    "features = ['sin_month', 'cos_month', 'sin_day','sin_hour','cos_day','sin_hour','humidity', 'windspeed','cloudcover', 'rain', 'generation']\n",
    "_features = [elem for elem in all_features if elem not in features]"
   ]
  },
  {
   "cell_type": "code",
   "execution_count": 3,
   "metadata": {},
   "outputs": [],
   "source": [
    "##データ読み込み\n",
    "missing_rate = \"20\"\n",
    "\n",
    "for m in range(missing_rate):\n",
    "PV_data = pd.read_csv(f\"_MCAR_{missing_rate}%.csv\")\n",
    "\n",
    "daytime_tr_va = PV_data.loc[:48*(train_days+test_days)-1].query('hour >= 7 and hour <=18')\n",
    "night_tr_va = PV_data.loc[:48*(train_days+test_days)-1].query('hour < 7 or hour > 18')\n",
    "test = PV_data.loc[48*(train_days+test_days):]"
   ]
  },
  {
   "cell_type": "code",
   "execution_count": 4,
   "metadata": {},
   "outputs": [],
   "source": [
    "complete_data = daytime_tr_va.dropna().reset_index(drop = True)\n",
    "missing_data = daytime_tr_va[daytime_tr_va['generation'].isnull()]"
   ]
  },
  {
   "cell_type": "code",
   "execution_count": 5,
   "metadata": {},
   "outputs": [],
   "source": [
    "tr_CompData = complete_data\n",
    "\n",
    "X_train = tr_CompData.loc[:,features[:-1]]\n",
    "y_train = tr_CompData.loc[:,features[-1]]                          \n",
    "\n",
    "X_test = missing_data.loc[:,features[:-1]]\n",
    "_X_test =  missing_data[_features].reset_index(drop = True)"
   ]
  },
  {
   "cell_type": "code",
   "execution_count": 6,
   "metadata": {
    "tags": []
   },
   "outputs": [
    {
     "name": "stdout",
     "output_type": "stream",
     "text": [
      "Wall time: 16min 1s\n"
     ]
    },
    {
     "data": {
      "text/plain": [
       "GridSearchCV(cv=5, estimator=RandomForestRegressor(),\n",
       "             param_grid={'max_depth': [5, 10, 20, 30, 40],\n",
       "                         'max_leaf_nodes': [None, 10, 20, 30],\n",
       "                         'min_samples_split': [4, 8, 12, 16],\n",
       "                         'n_estimators': [50, 100, 150, 200, 250]})"
      ]
     },
     "execution_count": 6,
     "metadata": {},
     "output_type": "execute_result"
    }
   ],
   "source": [
    "%%time\n",
    "from sklearn.model_selection import GridSearchCV\n",
    "\n",
    "# 検証したいパラメータの指定\n",
    "search_gs = {\n",
    "\"max_depth\": [5,10,20,30,40],\n",
    "\"n_estimators\":[50,100,150,200,250],\n",
    "\"min_samples_split\": [4,8,12,16],\n",
    "\"max_leaf_nodes\": [None, 10,20,30],\n",
    "}\n",
    "\n",
    "model_gs = RandomForestRegressor()\n",
    "# グリットサーチの設定\n",
    "gs = GridSearchCV(model_gs,\n",
    "                  search_gs,\n",
    "                  cv = 5,\n",
    "                  )\n",
    "# 学習\n",
    "gs.fit(X_train, y_train)\n",
    "# 最適なパラメータの表示"
   ]
  },
  {
   "cell_type": "code",
   "execution_count": 7,
   "metadata": {},
   "outputs": [
    {
     "name": "stdout",
     "output_type": "stream",
     "text": [
      "{'max_depth': 40, 'max_leaf_nodes': None, 'min_samples_split': 8, 'n_estimators': 50}\n"
     ]
    }
   ],
   "source": [
    "# 最適なパラメータの表示\n",
    "print(gs.best_params_)"
   ]
  },
  {
   "cell_type": "code",
   "execution_count": 8,
   "metadata": {},
   "outputs": [],
   "source": [
    "best = gs.best_estimator_\n",
    "y_test = best.predict(X_test)"
   ]
  },
  {
   "cell_type": "code",
   "execution_count": 9,
   "metadata": {},
   "outputs": [],
   "source": [
    "y_test = pd.DataFrame(y_test,columns = ['generation'])\n",
    "X_test = X_test.reset_index(drop=True)\n",
    "test_CompMissData = pd.concat([_X_test,X_test,y_test],axis =1)"
   ]
  },
  {
   "cell_type": "code",
   "execution_count": 10,
   "metadata": {},
   "outputs": [],
   "source": [
    "imputed_PV_data = pd.concat([complete_data,test_CompMissData],axis=0)\n",
    "sorted_result = pd.concat([imputed_PV_data,night_tr_va,test],axis=0).sort_values(['year','month','day','hour']).reset_index(drop = True)"
   ]
  },
  {
   "cell_type": "code",
   "execution_count": 11,
   "metadata": {},
   "outputs": [],
   "source": [
    "sorted_result.to_csv(f\"__RF_{missing_rate}%.csv\",index = False)"
   ]
  }
 ],
 "metadata": {
  "kernelspec": {
   "display_name": "Python 3 (ipykernel)",
   "language": "python",
   "name": "python3"
  },
  "language_info": {
   "codemirror_mode": {
    "name": "ipython",
    "version": 3
   },
   "file_extension": ".py",
   "mimetype": "text/x-python",
   "name": "python",
   "nbconvert_exporter": "python",
   "pygments_lexer": "ipython3",
   "version": "3.9.13"
  }
 },
 "nbformat": 4,
 "nbformat_minor": 4
}
